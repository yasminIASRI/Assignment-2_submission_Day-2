{
  "nbformat": 4,
  "nbformat_minor": 0,
  "metadata": {
    "colab": {
      "name": "Day-2_Asignment-2.ipynb",
      "provenance": [],
      "collapsed_sections": []
    },
    "kernelspec": {
      "name": "python3",
      "display_name": "Python 3"
    },
    "language_info": {
      "name": "python"
    }
  },
  "cells": [
    {
      "cell_type": "code",
      "metadata": {
        "colab": {
          "base_uri": "https://localhost:8080/"
        },
        "id": "psnwY6-4zxr9",
        "outputId": "fc461f88-2813-47ad-bd1f-67d40fe4e23e"
      },
      "source": [
        "#Question-1: Delete all occurrences of an element in a list\n",
        "\n",
        "#Solution: Delet all occurrences of a given element using remove()\n",
        "\n",
        "\n",
        "li = []\n",
        "n = int(input(\"Enter total number of elements in list : \"))\n",
        "print(\"Enter element of list:\")\n",
        "for i in range(0, n):\n",
        "    ele = int(input())\n",
        " \n",
        "    li.append(ele)\n",
        "    \n",
        "print(\"Given list is:\")\n",
        "print(li)\n",
        "\n",
        "val = int(input(\"Enter value to be removed from list:\"))\n",
        " \n",
        "try:\n",
        "    while True:\n",
        "        li.remove(val)\n",
        "except ValueError:\n",
        "    pass\n",
        "print(\"Final list after removing occurance is:\") \n",
        "print(li)\n",
        "\n",
        "\n"
      ],
      "execution_count": 24,
      "outputs": [
        {
          "output_type": "stream",
          "text": [
            "Enter total number of elements in list : 10\n",
            "Enter element of list:\n",
            "4\n",
            "8\n",
            "9\n",
            "9\n",
            "9\n",
            "9\n",
            "9\n",
            "5\n",
            "2\n",
            "1\n",
            "Given list is:\n",
            "[4, 8, 9, 9, 9, 9, 9, 5, 2, 1]\n",
            "Enter value to be removed from list:9\n",
            "Final list after removing occurance is:\n",
            "[4, 8, 5, 2, 1]\n"
          ],
          "name": "stdout"
        }
      ]
    },
    {
      "cell_type": "code",
      "metadata": {
        "colab": {
          "base_uri": "https://localhost:8080/"
        },
        "id": "VorpaamADkag",
        "outputId": "ae50244c-be05-4b80-aa32-a530a12b1443"
      },
      "source": [
        "#Question-2: Check whether a string is a pangram.\n",
        "#Solution:\n",
        "\n",
        "#Method-1:-\n",
        "\n",
        "import string, sys\n",
        "def ispangram(str1, alphabet=string.ascii_lowercase):\n",
        "    alphaset = set(alphabet)\n",
        "    return alphaset <= set(str1.lower())\n",
        " \n",
        "print ( ispangram('The quick rabbit firstly jumps over the brown lazy dog then big ox'))"
      ],
      "execution_count": 47,
      "outputs": [
        {
          "output_type": "stream",
          "text": [
            "True\n"
          ],
          "name": "stdout"
        }
      ]
    },
    {
      "cell_type": "code",
      "metadata": {
        "colab": {
          "base_uri": "https://localhost:8080/"
        },
        "id": "l8fL7XclJTOt",
        "outputId": "6ecc0f96-e061-4ee6-ef4b-1a6b5b8318d3"
      },
      "source": [
        "#Question-2: Check whether a string is a pangram.\n",
        "#Solution:\n",
        "\n",
        "#Method-2:-\n",
        "\n",
        "import string\n",
        "\n",
        "def ispangram(sentence, alphabet=string.ascii_lowercase): \n",
        "    return set(alphabet) <= set(sentence.lower()) \n",
        "\n",
        "print(ispangram(input('Sentence: ')))"
      ],
      "execution_count": 48,
      "outputs": [
        {
          "output_type": "stream",
          "text": [
            "Sentence: The quick rabbit firstly jumps over the brown lazy dog then big ox\n",
            "True\n"
          ],
          "name": "stdout"
        }
      ]
    },
    {
      "cell_type": "code",
      "metadata": {
        "colab": {
          "base_uri": "https://localhost:8080/"
        },
        "id": "gmJr8s8RLI2I",
        "outputId": "50190e1f-cf05-4f43-944e-06e5b9d5c2c8"
      },
      "source": [
        "#Mini project: OTP generator\n",
        "\n",
        "import random as r\n",
        "import string\n",
        "length=6\n",
        "otp=''\n",
        "string = '0123456789abcdefghijklmnopqrstuvwxyzABCDEFGHIJKLMNOPQRSTUVWXYZ'\n",
        "for i in range(length):\n",
        "  otp=otp+r.choice(string) #randomly pick any 6 characters in one raw\n",
        "print(\"your 6 character one time password is:\",otp)"
      ],
      "execution_count": 79,
      "outputs": [
        {
          "output_type": "stream",
          "text": [
            "your 6 character one time password is: nyPIwc\n"
          ],
          "name": "stdout"
        }
      ]
    }
  ]
}